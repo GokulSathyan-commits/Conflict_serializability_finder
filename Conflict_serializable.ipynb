{
  "nbformat": 4,
  "nbformat_minor": 0,
  "metadata": {
    "colab": {
      "provenance": []
    },
    "kernelspec": {
      "name": "python3",
      "display_name": "Python 3"
    },
    "language_info": {
      "name": "python"
    }
  },
  "cells": [
    {
      "cell_type": "code",
      "execution_count": 4,
      "metadata": {
        "colab": {
          "base_uri": "https://localhost:8080/"
        },
        "id": "kKjJyOsQVBYq",
        "outputId": "b4a60f8b-b919-490b-abfe-4d50700e9c2b"
      },
      "outputs": [
        {
          "output_type": "stream",
          "name": "stdout",
          "text": [
            "No cycle: Schedule is conflict serializable.\n"
          ]
        }
      ],
      "source": [
        "from collections import defaultdict\n",
        "\n",
        "class PrecedenceGraph:\n",
        "    def __init__(self, vertices):\n",
        "        self.graph = defaultdict(list)\n",
        "        self.V = vertices\n",
        "\n",
        "    def add_edge(self, u, v):\n",
        "        self.graph[u].append(v)\n",
        "\n",
        "    def is_cyclic(self, v, visited, rec_stack):\n",
        "        visited[v] = True\n",
        "        rec_stack[v] = True\n",
        "\n",
        "        for neighbour in self.graph[v]:\n",
        "            if not visited[neighbour]:\n",
        "                if self.is_cyclic(neighbour, visited, rec_stack):\n",
        "                    return True\n",
        "            elif rec_stack[neighbour]:\n",
        "                return True\n",
        "\n",
        "        rec_stack[v] = False\n",
        "        return False\n",
        "\n",
        "    def has_cycle(self):\n",
        "        visited = [False] * self.V\n",
        "        rec_stack = [False] * self.V\n",
        "\n",
        "        for node in range(self.V):\n",
        "            if not visited[node]:\n",
        "                if self.is_cyclic(node, visited, rec_stack):\n",
        "                    return True\n",
        "        return False\n",
        "\n",
        "# Example\n",
        "if __name__ == \"__main__\":\n",
        "    g = PrecedenceGraph(4)\n",
        "    g.add_edge(0, 1)\n",
        "    g.add_edge(1, 2)\n",
        "    g.add_edge(2, 3)\n",
        "\n",
        "    # Uncomment to create cycle\n",
        "    # g.add_edge(3, 1)\n",
        "\n",
        "    if g.has_cycle():\n",
        "        print(\"Cycle detected: Schedule is NOT conflict serializable.\")\n",
        "    else:\n",
        "        print(\"No cycle: Schedule is conflict serializable.\")"
      ]
    }
  ]
}